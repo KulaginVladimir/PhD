{
 "cells": [
  {
   "cell_type": "markdown",
   "metadata": {},
   "source": [
    "This validation case reproduces TDS measurements on oxidised W performed by [A. Dunand et al.](https://iopscience.iop.org/article/10.1088/1741-4326/ac583a)\n",
    "\n",
    "In the experiments, single crystal W samples (2 mm thick) with different O coverages (clean, 0.5 ML of O, 0.75 ML of O) were exposed to the D<sub>2</sub> flux of $\\approx 1.52\\times10^{18}\\,\\mathrm{m}^{-2}\\mathrm{s}^{-1}$. D<sub>2</sub> exposure lasted for 3000 s followed by the storage phase for 1 h. After that, TDS of samples was performed with 5 K/s ramp up to 800 K.\n",
    "\n",
    "Following the approach of [E. A. Hodille et al.](https://iopscience.iop.org/article/10.1088/1741-4326/ad2a29), the evolution of the surface concentration, in the present FESTIM model, is assumed to be governed by D adsorption from the gas phase and desorption. The D diffusivity in W is defined by scaling the corresponding value for H ([N. Fernandez et al.](https://www.sciencedirect.com/science/article/pii/S1359645415003043)) by a factor of $1/\\sqrt{2}$. Traps are not considered, since the D absorption flux is negligible at room temperature. \n",
    "\n",
    "The FESTIM results are compared to the experimental data and the results of MHIMS simulation, both taken from [E.A. Hodille et al 2024 Nucl. Fusion 64 046022](https://iopscience.iop.org/article/10.1088/1741-4326/ad2a29). Experimental data was extracted with [PlotDigitizer](https://plotdigitizer.com/)."
   ]
  },
  {
   "cell_type": "markdown",
   "metadata": {},
   "source": [
    "# FESTIM model"
   ]
  },
  {
   "cell_type": "code",
   "execution_count": 1,
   "metadata": {},
   "outputs": [],
   "source": [
    "import festim as F\n",
    "import fenics as f\n",
    "import numpy as np\n",
    "import sympy as sp\n",
    "import h_transport_materials as htm\n",
    "\n",
    "################### PARAMETERS ###################\n",
    "# Exposure conditions\n",
    "T0 = 300  # K\n",
    "ramp = 5  # K/s\n",
    "t_imp = 3000  # exposure duration, s\n",
    "t_storage = 3600  # storage time, s\n",
    "t_TDS = 100  # s\n",
    "L = 2e-3  # half thickness, m\n",
    "\n",
    "P_D2 = 2e-5  # D2 pressure, Pa\n",
    "m_D2 = 4.0282035557e-3 / 6.022e23  # D2 molecule mass, kg\n",
    "molecular_flux = P_D2 / np.sqrt(\n",
    "    2 * np.pi * m_D2 * T0 * 1.380649e-23\n",
    ")  # flux of atoms, m^-2 s^-1\n",
    "\n",
    "# W properties\n",
    "rho_W = 6.3382e28  # W atomic concentration, m^-3\n",
    "n_IS = 6 * rho_W  # concentration of interstitial sites, m^-3\n",
    "lambda_IS = 1.117e-10  # distance between interstitial sites, m\n",
    "n_surf_ref = 1.416e19  # concentration of adsorption sites, m^-2\n",
    "nu0 = 1e13  # attempt frequency, s^-1\n",
    "\n",
    "D_H = htm.diffusivities.filter(material=htm.Tungsten, author=\"fernandez\")[0]\n",
    "D0 = D_H.pre_exp.magnitude / np.sqrt(2)  # diffusivity pre-factor, m^2 s^-1\n",
    "E_diff = D_H.act_energy.magnitude  # diffusion activation energy, eV\n",
    "\n",
    "# Transitions\n",
    "E_bs = E_diff  # energy barrier from bulk to surface, eV\n",
    "E_diss = 0  # energy barrier for D2 dissociation, eV\n",
    "Q_sol = 1  # heat of solution, eV\n",
    "\n",
    "\n",
    "################### FUNCTIONS ###################\n",
    "def S0(T):\n",
    "    # the capturing coefficient\n",
    "    return f.exp(-E_diss / F.k_B / T)"
   ]
  },
  {
   "cell_type": "markdown",
   "metadata": {},
   "source": [
    "We can now define a function that will run a FESTIM model for different cases:"
   ]
  },
  {
   "cell_type": "code",
   "execution_count": 2,
   "metadata": {},
   "outputs": [],
   "source": [
    "def run_sim(n_surf, E0, dE, theta_D0, dtheta_D, alpha, beta):\n",
    "    lamda_des = 1 / np.sqrt(n_surf)  # average distance between adsorption sites, m\n",
    "\n",
    "    def E_des(surf_conc):\n",
    "        theta_D = surf_conc / n_surf\n",
    "        E_FD = E0 + dE / (1 + f.exp((theta_D - theta_D0) / dtheta_D))\n",
    "        E_des = E_FD * (1 - alpha * f.exp(-beta * (1 - theta_D)))\n",
    "        return E_des\n",
    "\n",
    "    def E_sb(surf_conc):\n",
    "        # energy barrier from surface to bulk, eV\n",
    "        return (E_des(surf_conc) - E_diss) / 2 + E_bs + Q_sol\n",
    "\n",
    "    def K_sb(T, surf_conc, solute_conc, t):\n",
    "        return nu0 * f.exp(-E_sb(surf_conc) / F.k_B / T)\n",
    "\n",
    "    def K_bs(T, surf_conc, solute_conc, t):\n",
    "        return nu0 * f.exp(-E_bs / F.k_B / T) * n_surf / n_IS\n",
    "\n",
    "    def J_vs(T, surf_conc, solute_conc, t):\n",
    "        J_ads = (\n",
    "            2\n",
    "            * S0(T)\n",
    "            * (1 - surf_conc / n_surf) ** 2\n",
    "            * f.conditional(t <= t_imp, molecular_flux, 0)\n",
    "        )\n",
    "\n",
    "        J_des = (\n",
    "            2\n",
    "            * nu0\n",
    "            * (lamda_des * surf_conc) ** 2\n",
    "            * f.exp(-E_des(surf_conc) / F.k_B / T)\n",
    "        )\n",
    "        return J_ads - J_des\n",
    "\n",
    "    W_model = F.Simulation(log_level=40)\n",
    "\n",
    "    # Mesh\n",
    "    vertices = np.linspace(0, L, num=500)\n",
    "    W_model.mesh = F.MeshFromVertices(vertices)\n",
    "\n",
    "    # Materials\n",
    "    tungsten = F.Material(id=1, D_0=D0, E_D=E_diff)\n",
    "    W_model.materials = tungsten\n",
    "\n",
    "    W_model.T = F.Temperature(\n",
    "        value=sp.Piecewise(\n",
    "            (T0, F.t < t_imp + t_storage), (T0 + ramp * (F.t - t_imp - t_storage), True)\n",
    "        )\n",
    "    )\n",
    "\n",
    "    my_BC = F.SurfaceKinetics(\n",
    "        k_sb=K_sb,\n",
    "        k_bs=K_bs,\n",
    "        lambda_IS=lambda_IS,\n",
    "        n_surf=n_surf,\n",
    "        n_IS=n_IS,\n",
    "        J_vs=J_vs,\n",
    "        surfaces=1,\n",
    "        initial_condition=0,\n",
    "        t=F.t,\n",
    "    )\n",
    "\n",
    "    W_model.boundary_conditions = [my_BC, F.DirichletBC(field=0, value=0, surfaces=2)]\n",
    "\n",
    "    W_model.dt = F.Stepsize(\n",
    "        initial_value=1e-7,\n",
    "        stepsize_change_ratio=1.25,\n",
    "        max_stepsize=lambda t: 10 if t < t_imp + t_storage - 10 else 0.1,\n",
    "        dt_min=1e-9,\n",
    "    )\n",
    "\n",
    "    W_model.settings = F.Settings(\n",
    "        absolute_tolerance=1e5,\n",
    "        relative_tolerance=1e-11,\n",
    "        maximum_iterations=50,\n",
    "        final_time=t_imp + t_storage + t_TDS,\n",
    "    )\n",
    "\n",
    "    # Exports\n",
    "    derived_quantities = F.DerivedQuantities(\n",
    "        [F.AdsorbedHydrogen(surface=1), F.TotalSurface(field=\"T\", surface=1)],\n",
    "        show_units=True,\n",
    "    )\n",
    "\n",
    "    W_model.exports = [derived_quantities]\n",
    "\n",
    "    W_model.initialise()\n",
    "    W_model.run()\n",
    "\n",
    "    return derived_quantities"
   ]
  },
  {
   "cell_type": "markdown",
   "metadata": {},
   "source": [
    "We now run the FESTIM model for the three cases with different oxygen coverages:"
   ]
  },
  {
   "cell_type": "code",
   "execution_count": 3,
   "metadata": {},
   "outputs": [
    {
     "name": "stdout",
     "output_type": "stream",
     "text": [
      "Defining initial values\n",
      "Defining variational problem\n",
      "Defining source terms\n",
      "Defining boundary conditions\n",
      "Time stepping...\n",
      "100.0 %        6.7e+03 s    Elapsed time so far: 18.9 s\n",
      "Defining initial values\n",
      "Defining variational problem\n",
      "Defining source terms\n",
      "Defining boundary conditions\n",
      "Time stepping...\n",
      "100.0 %        6.7e+03 s    Elapsed time so far: 18.8 s\n",
      "Defining initial values\n",
      "Defining variational problem\n",
      "Defining source terms\n",
      "Defining boundary conditions\n",
      "Time stepping...\n",
      "100.0 %        6.7e+03 s    Elapsed time so far: 20.9 s\n"
     ]
    }
   ],
   "source": [
    "# Fitting parameters from the paper\n",
    "cases = [\"clean\", \"0.50ML of O\", \"0.75ML of O\"]\n",
    "inputs = {\n",
    "    \"n_surf\": [n_surf_ref, n_surf_ref * (1 - 0.5), n_surf_ref * (1 - 0.75)],\n",
    "    \"E0\": [1.142, 1.111, 1.066],\n",
    "    \"dE\": [0.346, 0.289, 0.234],\n",
    "    \"theta_D0\": [0.253, 0.113, 0.161],\n",
    "    \"dtheta_D\": [0.180, 0.082, 0.057],\n",
    "    \"alpha\": [0.303, 0.460, 0.437],\n",
    "    \"beta\": [8.902, 7.240, 4.144],\n",
    "}\n",
    "\n",
    "results = {}\n",
    "for i, case in enumerate(cases):\n",
    "    results[case] = run_sim(*[inputs[key][i] for key in inputs.keys()])"
   ]
  },
  {
   "cell_type": "markdown",
   "metadata": {},
   "source": [
    "# Comparison"
   ]
  },
  {
   "cell_type": "markdown",
   "metadata": {},
   "source": [
    "The results produced by FESTIM are in good agreement with the experimental data at different O coverages."
   ]
  },
  {
   "cell_type": "code",
   "execution_count": 4,
   "metadata": {},
   "outputs": [],
   "source": [
    "def E_des_pp(surf_conc, n_surf, E0, dE, theta_D0, dtheta_D, alpha, beta):\n",
    "    theta_D = surf_conc / n_surf\n",
    "    E_FD = E0 + dE / (1 + np.exp((theta_D - theta_D0) / dtheta_D))\n",
    "    E_des = E_FD * (1 - alpha * np.exp(-beta * (1 - theta_D)))\n",
    "    return E_des\n",
    "\n",
    "\n",
    "def compute_TDS(i, case):\n",
    "    time = np.array(results[case].t)\n",
    "    surf_conc = np.array(results[case][0].data)[np.where(time > t_imp + t_storage)]\n",
    "    T = np.array(results[case][1].data)[np.where(time > t_imp + t_storage)]\n",
    "    lamda_des = 1 / np.sqrt(inputs[\"n_surf\"][i])\n",
    "\n",
    "    desorption_flux = (\n",
    "        2\n",
    "        * nu0\n",
    "        * (lamda_des * surf_conc) ** 2\n",
    "        * np.exp(\n",
    "            -E_des_pp(surf_conc, *[inputs[key][i] for key in inputs.keys()]) / F.k_B / T\n",
    "        )\n",
    "    )\n",
    "\n",
    "    return T, desorption_flux\n",
    "\n",
    "\n",
    "ref_labels = [\"clean\", \"050OML\", \"075OML\"]"
   ]
  },
  {
   "cell_type": "markdown",
   "metadata": {},
   "source": [
    "The FESTIM results correlate perfectly with the MHIMS data."
   ]
  },
  {
   "cell_type": "code",
   "execution_count": 5,
   "metadata": {},
   "outputs": [
    {
     "name": "stderr",
     "output_type": "stream",
     "text": [
      "/home/vvkulagin/anaconda3/envs/festim-env/lib/python3.11/site-packages/pypalettes/utils.py:5: DeprecationWarning: open_binary is deprecated. Use files() instead. Refer to https://importlib-resources.readthedocs.io/en/latest/using.html#migrating-from-legacy for migration advice.\n",
      "  with resources.open_binary('pypalettes', path) as f:\n"
     ]
    },
    {
     "data": {
      "image/png": "[encoded data removed]",
      "text/plain": [
       "<Figure size 787.402x314.961 with 2 Axes>"
      ]
     },
     "metadata": {},
     "output_type": "display_data"
    }
   ],
   "source": [
    "import matplotlib.pyplot as plt\n",
    "from matplotlib.patches import Rectangle\n",
    "from pypalettes import load_cmap\n",
    "from matplotlib.ticker import AutoMinorLocator\n",
    "\n",
    "cmap = load_cmap(\"Sunset2\", reverse=True)\n",
    "\n",
    "mpl_params = {\n",
    "    \"text.usetex\": True,\n",
    "    \"text.latex.preamble\": \"\\n\".join(\n",
    "        [\n",
    "            r\"\\usepackage{siunitx}\",\n",
    "            r\"\\sisetup{detect-all}\",\n",
    "            r\"\\usepackage{amsmath}\",\n",
    "            r\"\\usepackage[utf8]{inputenc}\",\n",
    "            r\"\\usepackage[russian]{babel}\",\n",
    "            r\"\\usepackage{bm}\",\n",
    "        ]\n",
    "    ),\n",
    "    \"axes.spines.right\": False,\n",
    "    \"axes.spines.top\": False,\n",
    "    \"font.family\": \"Times New Roman\",\n",
    "    \"font.size\": 12,\n",
    "    \"legend.frameon\": False,\n",
    "}\n",
    "plt.rcParams.update(mpl_params)\n",
    "\n",
    "mm2inch = 0.1 / 2.54\n",
    "fig, axs = plt.subplots(1, 2, figsize=(200 * mm2inch, 80 * mm2inch), sharey=True)\n",
    "\n",
    "ref_labels = [\"clean\", \"050OML\", \"075OML\"]\n",
    "\n",
    "for i, case in enumerate(cases):\n",
    "\n",
    "    T, desorption_flux = compute_TDS(i, case)\n",
    "\n",
    "    exp_data = np.loadtxt(\n",
    "        f\"./reference_data/{ref_labels[i]}_exp.csv\", skiprows=1, delimiter=\",\"\n",
    "    )\n",
    "    MHIMS_data = np.loadtxt(\n",
    "        f\"./reference_data/{ref_labels[i]}_MHIMS.txt\", skiprows=1, delimiter=\",\"\n",
    "    )\n",
    "\n",
    "    (l1,) = axs[0].plot(\n",
    "        T, desorption_flux / 1e17, label=\"None\", color=cmap(2 * i), lw=2\n",
    "    )\n",
    "\n",
    "    axs[1].plot(T, desorption_flux / 1e17, label=\"None\", color=l1.get_color(), lw=2)\n",
    "\n",
    "    axs[0].scatter(\n",
    "        exp_data[:, 0],\n",
    "        exp_data[:, 1] / 1e17,\n",
    "        marker=\"o\",\n",
    "        s=22,\n",
    "        color=l1.get_color(),\n",
    "        alpha=0.6,\n",
    "        label=\"None\",\n",
    "    )\n",
    "\n",
    "    axs[1].scatter(\n",
    "        MHIMS_data[::12, 0],\n",
    "        MHIMS_data[::12, 1] / 1e17,\n",
    "        marker=\"x\",\n",
    "        s=50,\n",
    "        color=l1.get_color(),\n",
    "        alpha=0.6,\n",
    "        label=\"None\",\n",
    "    )\n",
    "\n",
    "extra = Rectangle((0, 0), 1, 1, fc=\"w\", fill=False, edgecolor=\"none\", linewidth=0)\n",
    "\n",
    "empty_label = [\"\"]\n",
    "label_col1 = [\n",
    "    \"\",\n",
    "    r\"$\\theta_\\mathrm{O}=0,00$\",\n",
    "    r\"$\\theta_\\mathrm{O}=0,50$\",\n",
    "    r\"$\\theta_\\mathrm{O}=0,75$\",\n",
    "]\n",
    "label_col2 = [\"FESTIM\"]\n",
    "label_col3 = [\"Эксп.\", \"MHIMS\"]\n",
    "names = [\"experiment\", \"MHIMS\"]\n",
    "\n",
    "for i, axis in enumerate(axs):\n",
    "    h, l = axis.get_legend_handles_labels()\n",
    "    handles = [extra] * 5 + h[0::2] + [extra] + h[1::2] + [extra]\n",
    "    labels = np.concatenate(\n",
    "        [label_col1, label_col2, empty_label * 3, [label_col3[i]], empty_label * 3]\n",
    "    )\n",
    "    axis.set_xlabel(\"Температура, K\")\n",
    "    axis.set_xlim(300, 800)\n",
    "    leg = axis.legend(\n",
    "        handles,\n",
    "        labels,\n",
    "        fancybox=False,\n",
    "        ncols=3,\n",
    "        handletextpad=-3,\n",
    "        frameon=False,\n",
    "        columnspacing=1.5,\n",
    "        fontsize=12,\n",
    "        bbox_to_anchor=(0, 1.2, 1, 0.2),\n",
    "        loc=\"upper center\",\n",
    "        borderaxespad=0,\n",
    "    )\n",
    "    axis.set_ylim(-0.5, 5)\n",
    "    axis.spines[\"bottom\"].set_position((\"data\", 0))\n",
    "    axis.set_xticks([i for i in range(350, 850, 100)])\n",
    "    axis.yaxis.set_minor_locator(AutoMinorLocator(2))\n",
    "    axis.xaxis.set_minor_locator(AutoMinorLocator(2))\n",
    "\n",
    "    if i == 0:\n",
    "        leg.get_texts()[-4].set_ha(\"right\")\n",
    "        leg.get_texts()[-4].set_position((9.5, 0))\n",
    "\n",
    "axs[0].set_ylabel(r\"Плотность потока D, $10^{17}\\,\\si{\\text{м}^{-2}.\\text{c}{^{-1}}}$\")\n",
    "\n",
    "fig.subplots_adjust(wspace=0.05)\n",
    "\n",
    "plt.savefig(\"../../../Thesis/images/val2.pdf\", bbox_inches=\"tight\", pad_inches=0.02)\n",
    "plt.show()"
   ]
  },
  {
   "cell_type": "markdown",
   "metadata": {},
   "source": [
    "We can now evaluate RMSE between FESTIM and experimental results. "
   ]
  },
  {
   "cell_type": "code",
   "execution_count": 6,
   "metadata": {},
   "outputs": [
    {
     "name": "stdout",
     "output_type": "stream",
     "text": [
      "Case clean: RMSE=2.103e+16 1/m^2 s\n",
      "Case 0.50ML of O: RMSE=8.747e+15 1/m^2 s\n",
      "Case 0.75ML of O: RMSE=7.191e+15 1/m^2 s\n"
     ]
    }
   ],
   "source": [
    "from scipy.interpolate import interp1d\n",
    "\n",
    "\n",
    "def RMSE(x_sim, x_exp):\n",
    "    error = np.sqrt(np.mean((x_sim - x_exp) ** 2))\n",
    "    return error\n",
    "\n",
    "\n",
    "for i, case in enumerate(cases):\n",
    "\n",
    "    T, desorption_flux = compute_TDS(i, case)\n",
    "    interp_tds = interp1d(T, desorption_flux, fill_value=\"extrapolate\")\n",
    "\n",
    "    exp_data = np.loadtxt(\n",
    "        f\"./reference_data/{ref_labels[i]}_exp.csv\", skiprows=1, delimiter=\",\"\n",
    "    )\n",
    "\n",
    "    error = RMSE(interp_tds(exp_data[:, 0]), exp_data[:, 1])\n",
    "    print(f\"Case {case}: RMSE={error:.3e} 1/m^2 s\")"
   ]
  },
  {
   "cell_type": "markdown",
   "metadata": {},
   "source": [
    "We can also evaluate RMSE between FESTIM and MHIMS results. "
   ]
  },
  {
   "cell_type": "code",
   "execution_count": 7,
   "metadata": {},
   "outputs": [
    {
     "name": "stdout",
     "output_type": "stream",
     "text": [
      "Case clean: RMSE=6.263e+14 1/m^2 s\n",
      "Case 0.50ML of O: RMSE=5.303e+14 1/m^2 s\n",
      "Case 0.75ML of O: RMSE=1.160e+14 1/m^2 s\n"
     ]
    }
   ],
   "source": [
    "for i, case in enumerate(cases):\n",
    "\n",
    "    T, desorption_flux = compute_TDS(i, case)\n",
    "    interp_tds = interp1d(T, desorption_flux, fill_value=\"extrapolate\")\n",
    "\n",
    "    exp_data = np.loadtxt(\n",
    "        f\"./reference_data/{ref_labels[i]}_MHIMS.txt\", skiprows=1, delimiter=\",\"\n",
    "    )\n",
    "\n",
    "    error = RMSE(interp_tds(exp_data[:, 0]), exp_data[:, 1])\n",
    "    print(f\"Case {case}: RMSE={error:.3e} 1/m^2 s\")"
   ]
  }
 ],
 "metadata": {
  "kernelspec": {
   "display_name": "festim-env",
   "language": "python",
   "name": "python3"
  },
  "language_info": {
   "codemirror_mode": {
    "name": "ipython",
    "version": 3
   },
   "file_extension": ".py",
   "mimetype": "text/x-python",
   "name": "python",
   "nbconvert_exporter": "python",
   "pygments_lexer": "ipython3",
   "version": "3.11.9"
  }
 },
 "nbformat": 4,
 "nbformat_minor": 2
}
