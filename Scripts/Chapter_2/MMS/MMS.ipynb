{
 "cells": [
  {
   "cell_type": "markdown",
   "metadata": {},
   "source": [
    "# Verification\n",
    "\n",
    "This MMS case verifies the implementation of the Surface Kinetics boundary condition in FESTIM. We will consider a time-dependent case of hydrogen diffusion on domain $\\Omega: x\\in[0,1] \\cup t\\in[0, 5]$ with a homogeneous diffusion coefficient $D$, and a Dirichlet boundary condition on the rear domain side."
   ]
  },
  {
   "cell_type": "markdown",
   "metadata": {},
   "source": [
    "The problem is:\n",
    "\n",
    "\\begin{align}\n",
    "    &\\dfrac{\\partial c_\\mathrm{m}}{\\partial t} = \\nabla\\cdot\\left(D\\nabla c_\\mathrm{m} \\right) + S \\quad \\textrm{ on } \\Omega, \\\\\n",
    "    &-D \\nabla c_\\mathrm{m} \\cdot \\mathbf{n} = \\lambda_{\\mathrm{IS}} \\dfrac{\\partial c_{\\mathrm{m}}}{\\partial t} + J_{\\mathrm{bs}} - J_{\\mathrm{sb}} \\quad \\textrm{ at } x=0, \\\\\n",
    "    &c_\\mathrm{m} = c_\\mathrm{m, 0} \\quad \\textrm{ at } x=1, \\\\\n",
    "    &c_\\mathrm{m} = c_\\mathrm{m, 0} \\quad \\textrm{ at } t=0, \\\\\n",
    "    &\\dfrac{d c_\\mathrm{s}}{d t} = J_{\\mathrm{bs}} - J_{\\mathrm{sb}} + J_{\\mathrm{vs}}  \\quad \\textrm{ at } x=0, \\\\\n",
    "    &c_\\mathrm{s}= c_\\mathrm{s, 0}\\quad \\textrm{ at } t=0, \\\\\n",
    "\\end{align}\n",
    "\n",
    "with $J_{\\mathrm{bs}} = k_{\\mathrm{bs}} c_{\\mathrm{m}} \\left(1 - \\dfrac{c_\\mathrm{s}}{n_{\\mathrm{surf}}}\\right)$, $J_{\\mathrm{sb}} = k_{\\mathrm{sb}} c_{\\mathrm{s}} \\left(1 - \\dfrac{c_{\\mathrm{m}}}{n_\\mathrm{IS}}\\right)$.\n",
    "\n",
    "The manufactured exact solution for mobile concentration is:\n",
    "\\begin{equation*}\n",
    "c_\\mathrm{m, exact}=1+2x^2+x+2t.\n",
    "\\end{equation*}\n",
    "\n",
    "For this problem, we choose:\n",
    "\\begin{align*}\n",
    "& k_{\\mathrm{bs}}=3 \\\\\n",
    "& k_{\\mathrm{sb}}=2 \\frac{n_\\mathrm{IS}}{n_\\mathrm{surf}} \\\\\n",
    "& n_{\\mathrm{IS}} = 20 \\\\\n",
    "& n_{\\mathrm{surf}} = 5 \\\\\n",
    "& D = 7 \\\\\n",
    "& \\lambda_\\mathrm{IS} = 2\n",
    "\\end{align*}\n",
    "\n",
    "Injecting these parameters and the exact solution for solute H, we obtain:\n",
    "\n",
    "\\begin{align*}\n",
    "& S = 2(1-2D) \\\\\n",
    "& J_{\\mathrm{vs}}=2n_\\mathrm{surf}\\dfrac{6n_\\mathrm{IS}-2\\lambda_\\mathrm{IS}+D}{(2n_\\mathrm{IS}+1+2t)^2}+2\\lambda_\\mathrm{IS}-D \\\\\n",
    "& c_\\mathrm{s, exact}=n_\\mathrm{surf}\\dfrac{3(1+2t)+2\\lambda_\\mathrm{IS}-D}{2n_\\mathrm{IS}+1+2t} \\\\\n",
    "& c_\\mathrm{s,0}=c_\\mathrm{s, exact} \\\\\n",
    "& c_\\mathrm{m,0}=c_\\mathrm{m, exact}\n",
    "\\end{align*}\n",
    "\n",
    "We can then run a FESTIM model with these values and compare the numerical solutions with $c_\\mathrm{m, exact}$ and $c_\\mathrm{s, exact}$."
   ]
  },
  {
   "cell_type": "markdown",
   "metadata": {},
   "source": [
    "## FESTIM model"
   ]
  },
  {
   "cell_type": "code",
   "execution_count": 1,
   "metadata": {},
   "outputs": [
    {
     "name": "stderr",
     "output_type": "stream",
     "text": [
      "/home/vvkulagin/anaconda3/envs/PhD-env/lib/python3.11/site-packages/ufl/__init__.py:250: UserWarning: pkg_resources is deprecated as an API. See https://setuptools.pypa.io/en/latest/pkg_resources.html. The pkg_resources package is slated for removal as early as 2025-11-30. Refrain from using this package or pin to Setuptools<81.\n",
      "  import pkg_resources\n"
     ]
    }
   ],
   "source": [
    "import festim as F\n",
    "import matplotlib.pyplot as plt\n",
    "import numpy as np\n",
    "\n",
    "n_IS = 20\n",
    "n_surf = 5\n",
    "D = 7\n",
    "lambda_IS = 2\n",
    "k_bs = 3\n",
    "k_sb = 2 * n_IS / n_surf\n",
    "\n",
    "solute_source = 2 * (1 - 2 * D)\n",
    "\n",
    "exact_solution_cm = lambda x, t: 1 + 2 * x**2 + x + 2 * t\n",
    "exact_solution_cs = (\n",
    "    lambda t: n_surf * (3 * (1 + 2 * t) + 2 * lambda_IS - D) / (2 * n_IS + 1 + 2 * t)\n",
    ")\n",
    "\n",
    "solute_source = 2 * (1 - 2 * D)\n",
    "\n",
    "\n",
    "def J_vs(T, surf_conc, solute, t):\n",
    "    return (\n",
    "        2 * n_surf * (6 * n_IS - 2 * lambda_IS + D) / (2 * n_IS + 1 + 2 * t) ** 2\n",
    "        + 2 * lambda_IS\n",
    "        - D\n",
    "    )\n",
    "\n",
    "\n",
    "def run_sim(N_mesh, time_step, export_times=None):\n",
    "    # Create the FESTIM model\n",
    "    my_model = F.Simulation()\n",
    "\n",
    "    my_model.mesh = F.MeshFromVertices(np.linspace(0, 1, int(N_mesh)))\n",
    "\n",
    "    my_model.sources = [F.Source(solute_source, volume=1, field=\"solute\")]\n",
    "\n",
    "    my_model.boundary_conditions = [\n",
    "        F.DirichletBC(\n",
    "            surfaces=[2], value=exact_solution_cm(x=F.x, t=F.t), field=\"solute\"\n",
    "        ),\n",
    "        F.SurfaceKinetics(\n",
    "            k_sb=k_sb,\n",
    "            k_bs=k_bs,\n",
    "            lambda_IS=lambda_IS,\n",
    "            n_surf=n_surf,\n",
    "            n_IS=n_IS,\n",
    "            J_vs=J_vs,\n",
    "            surfaces=1,\n",
    "            initial_condition=exact_solution_cs(t=0),\n",
    "            t=F.t,\n",
    "        ),\n",
    "    ]\n",
    "\n",
    "    my_model.initial_conditions = [\n",
    "        F.InitialCondition(field=\"solute\", value=exact_solution_cm(x=F.x, t=F.t))\n",
    "    ]\n",
    "\n",
    "    my_model.materials = F.Material(id=1, D_0=D, E_D=0)\n",
    "\n",
    "    my_model.T = 300  # this is ignored since no parameter is T-dependent\n",
    "\n",
    "    my_model.settings = F.Settings(\n",
    "        absolute_tolerance=1e-10, relative_tolerance=1e-10, transient=True, final_time=5\n",
    "    )\n",
    "\n",
    "    my_model.dt = F.Stepsize(initial_value=time_step, milestones=export_times)\n",
    "\n",
    "    derived_quantities = F.DerivedQuantities(\n",
    "        [F.AdsorbedHydrogen(surface=1)], show_units=True\n",
    "    )\n",
    "\n",
    "    TXT = F.TXTExport(\n",
    "        \"solute\", filename=\"./mobile_conc.txt\", times=export_times, write_at_last=True\n",
    "    )\n",
    "    my_model.exports = [TXT, derived_quantities]\n",
    "\n",
    "    my_model.initialise()\n",
    "    my_model.run()\n",
    "    return derived_quantities, TXT"
   ]
  },
  {
   "cell_type": "markdown",
   "metadata": {},
   "source": [
    "## Comparison"
   ]
  },
  {
   "cell_type": "code",
   "execution_count": 2,
   "metadata": {},
   "outputs": [],
   "source": [
    "from pypalettes import load_cmap\n",
    "\n",
    "cmap = load_cmap(\"Sunset2\", reverse=False)\n",
    "\n",
    "mpl_params = {\n",
    "    \"text.usetex\": True,\n",
    "    \"text.latex.preamble\": \"\\n\".join(\n",
    "        [\n",
    "            r\"\\usepackage{siunitx}\",\n",
    "            r\"\\sisetup{detect-all}\",\n",
    "            r\"\\usepackage{amsmath}\",\n",
    "            r\"\\usepackage[utf8]{inputenc}\",\n",
    "            r\"\\usepackage[russian]{babel}\",\n",
    "        ]\n",
    "    ),\n",
    "    \"axes.spines.right\": False,\n",
    "    \"axes.spines.top\": False,\n",
    "    \"font.family\": \"Times New Roman\",\n",
    "    \"font.size\": 12,\n",
    "    \"legend.frameon\": False,\n",
    "}\n",
    "\n",
    "plt.rcParams.update(mpl_params)\n",
    "mm2inch = 1e-1 / 2.54\n",
    "\n",
    "\n",
    "def norm(x, c_comp, c_ex):\n",
    "    return np.sqrt(np.trapz(y=(c_comp - c_ex) ** 2, x=x))"
   ]
  },
  {
   "cell_type": "code",
   "execution_count": 3,
   "metadata": {},
   "outputs": [
    {
     "name": "stdout",
     "output_type": "stream",
     "text": [
      "Defining initial values\n",
      "Defining variational problem\n",
      "Defining source terms\n",
      "Defining boundary conditions\n",
      "Time stepping...\n",
      "Calling FFC just-in-time (JIT) compiler, this may take some time.\n",
      "Calling FFC just-in-time (JIT) compiler, this may take some time.\n",
      "Calling FFC just-in-time (JIT) compiler, this may take some time.\n",
      "Calling FFC just-in-time (JIT) compiler, this may take some time.\n",
      "100.0 %        5.0e+00 s    Elapsed time so far: 16.8 s\n"
     ]
    }
   ],
   "source": [
    "export_times = [1, 2, 3, 4, 5]\n",
    "adsorbed_data, solute_data = run_sim(1000, 5e-3, export_times)\n",
    "solute_data = solute_data.data"
   ]
  },
  {
   "cell_type": "code",
   "execution_count": 4,
   "metadata": {},
   "outputs": [
    {
     "name": "stdout",
     "output_type": "stream",
     "text": [
      "L2 error for cs: 4.36e-05\n"
     ]
    },
    {
     "data": {
      "image/png": "[encoded data removed]",
      "text/plain": [
       "<Figure size 346.457x291.339 with 1 Axes>"
      ]
     },
     "metadata": {},
     "output_type": "display_data"
    }
   ],
   "source": [
    "fig, ax = plt.subplots(figsize=(88 * mm2inch, 74 * mm2inch))\n",
    "\n",
    "c_s_computed = adsorbed_data[0].data\n",
    "t = adsorbed_data[0].t\n",
    "\n",
    "ax.plot(\n",
    "    t,\n",
    "    exact_solution_cs(np.array(t)),\n",
    "    label=\"Построенное решение\",\n",
    "    color=cmap(0),\n",
    "    lw=1.5,\n",
    ")\n",
    "ax.scatter(\n",
    "    t[::45],\n",
    "    c_s_computed[::45],\n",
    "    label=\"Численное решение\",\n",
    "    alpha=0.6,\n",
    "    s=15,\n",
    "    color=cmap(0),\n",
    ")\n",
    "ax.set_ylabel(r\"$c_\\mathrm{s}$\")\n",
    "ax.set_xlabel(\"$t$\")\n",
    "ax.set_ylim(-0.125, 3.5 + 0.125)\n",
    "ax.set_xticks([i for i in range(6)])\n",
    "ax.set_yticks([i * 0.5 for i in range(8)])\n",
    "ax.legend(loc=\"upper left\")\n",
    "\n",
    "print(f\"L2 error for cs: {norm(t, c_s_computed, exact_solution_cs(t=np.array(t))):.2e}\")\n",
    "\n",
    "plt.savefig(\"../../../Thesis/images/MMS_b.pdf\", bbox_inches=\"tight\", pad_inches=0.02)\n",
    "plt.show()"
   ]
  },
  {
   "cell_type": "code",
   "execution_count": 5,
   "metadata": {},
   "outputs": [
    {
     "name": "stdout",
     "output_type": "stream",
     "text": [
      "L2 error for cm at t=1: 1.20e-05\n",
      "L2 error for cm at t=2: 1.19e-05\n",
      "L2 error for cm at t=3: 1.05e-05\n",
      "L2 error for cm at t=4: 9.25e-06\n",
      "L2 error for cm at t=5: 8.17e-06\n"
     ]
    },
    {
     "data": {
      "image/png": "[encoded data removed]",
      "text/plain": [
       "<Figure size 346.457x291.339 with 1 Axes>"
      ]
     },
     "metadata": {},
     "output_type": "display_data"
    }
   ],
   "source": [
    "fig, ax = plt.subplots(figsize=(88 * mm2inch, 74 * mm2inch))\n",
    "\n",
    "plot_times = [1, 2, 3, 4, 5]\n",
    "for i, t in enumerate(plot_times):\n",
    "    x = solute_data[:, 0]\n",
    "    y = solute_data[:, i + 1]\n",
    "\n",
    "    ax.plot(x, exact_solution_cm(np.array(x), t), color=cmap(i), lw=1.5)\n",
    "\n",
    "    ax.text(\n",
    "        1.02,\n",
    "        exact_solution_cm(1.04, t),\n",
    "        rf\"$\\textbf{{t={t}}}$\",\n",
    "        ha=\"left\",\n",
    "        va=\"center\",\n",
    "        rotation=9,\n",
    "        color=cmap(i),\n",
    "    )\n",
    "\n",
    "    ax.scatter(\n",
    "        x[::99],\n",
    "        y[::99],\n",
    "        s=17,\n",
    "        color=cmap(i),\n",
    "        alpha=0.6,\n",
    "    )\n",
    "\n",
    "    print(\n",
    "        f\"L2 error for cm at t={t}: {norm(np.array(x), np.array(y), exact_solution_cm(x=np.array(x), t=t)):.2e}\"\n",
    "    )\n",
    "\n",
    "c_s_computed = adsorbed_data[0].data\n",
    "t = adsorbed_data[0].t\n",
    "\n",
    "ax.plot(0, 0, color=\"black\", lw=1.5, label=\"Построенное решение\")\n",
    "ax.scatter(0, 0, color=\"black\", s=17, alpha=0.6, label=\"Численное решение\")\n",
    "ax.set_ylabel(r\"$c_\\mathrm{m}$\")\n",
    "ax.set_xlabel(\"$x$\")\n",
    "ax.set_ylim(2.5 - 0.625, 17.5 + 0.625)\n",
    "ax.set_yticks([i * 2.5 for i in range(1, 8)])\n",
    "\n",
    "ax.legend(loc=\"upper left\")\n",
    "\n",
    "plt.savefig(\"../../../Thesis/images/MMS_a.pdf\", bbox_inches=\"tight\", pad_inches=0.02)\n",
    "plt.show()"
   ]
  },
  {
   "cell_type": "markdown",
   "metadata": {},
   "source": [
    "## Time convergence"
   ]
  },
  {
   "cell_type": "code",
   "execution_count": 6,
   "metadata": {},
   "outputs": [
    {
     "name": "stdout",
     "output_type": "stream",
     "text": [
      "Defining initial values\n",
      "Defining variational problem\n",
      "Defining source terms\n",
      "Defining boundary conditions\n",
      "Time stepping...\n",
      "100.0 %        5.0e+00 s    Elapsed time so far: 107.2 s\n",
      "Defining initial values\n",
      "Defining variational problem\n",
      "Defining source terms\n",
      "Defining boundary conditions\n",
      "Time stepping...\n",
      "100.0 %        5.0e+00 s    Elapsed time so far: 43.3 s\n",
      "Defining initial values\n",
      "Defining variational problem\n",
      "Defining source terms\n",
      "Defining boundary conditions\n",
      "Time stepping...\n",
      "100.0 %        5.0e+00 s    Elapsed time so far: 34.2 s\n",
      "Defining initial values\n",
      "Defining variational problem\n",
      "Defining source terms\n",
      "Defining boundary conditions\n",
      "Time stepping...\n",
      "100.0 %        5.0e+00 s    Elapsed time so far: 16.7 s\n",
      "Defining initial values\n",
      "Defining variational problem\n",
      "Defining source terms\n",
      "Defining boundary conditions\n",
      "Time stepping...\n",
      "100.0 %        5.0e+00 s    Elapsed time so far: 8.2 s\n",
      "Defining initial values\n",
      "Defining variational problem\n",
      "Defining source terms\n",
      "Defining boundary conditions\n",
      "Time stepping...\n",
      "100.0 %        5.0e+00 s    Elapsed time so far: 4.0 s\n",
      "Defining initial values\n",
      "Defining variational problem\n",
      "Defining source terms\n",
      "Defining boundary conditions\n",
      "Time stepping...\n",
      "100.0 %        5.0e+00 s    Elapsed time so far: 3.2 s\n",
      "Defining initial values\n",
      "Defining variational problem\n",
      "Defining source terms\n",
      "Defining boundary conditions\n",
      "Time stepping...\n",
      "100.0 %        5.0e+00 s    Elapsed time so far: 1.6 s\n",
      "Defining initial values\n",
      "Defining variational problem\n",
      "Defining source terms\n",
      "Defining boundary conditions\n",
      "Time stepping...\n",
      "100.0 %        5.0e+00 s    Elapsed time so far: 0.8 s\n"
     ]
    }
   ],
   "source": [
    "def norm(x, c_comp, c_ex):\n",
    "    return np.sqrt(np.trapz(y=(c_comp - c_ex) ** 2, x=x))\n",
    "\n",
    "\n",
    "export_times = None\n",
    "\n",
    "time_steps = [1e-3, 2e-3, 2.5e-3, 5e-3, 1e-2, 2e-2, 2.5e-2, 5e-2, 1e-1]\n",
    "t_errors_cs = np.zeros_like(time_steps)\n",
    "t_errors_cm = np.zeros_like(time_steps)\n",
    "\n",
    "for i, time_step in enumerate(time_steps):\n",
    "    adsorbed_data, solute_data = run_sim(1000, time_step, export_times)\n",
    "    solute_data = solute_data.data\n",
    "\n",
    "    c_s_computed = adsorbed_data[0].data\n",
    "    t = adsorbed_data[0].t\n",
    "\n",
    "    t_errors_cs[i] = norm(t, c_s_computed, exact_solution_cs(t=np.array(t)))\n",
    "\n",
    "    times = np.linspace(time_step, 5, num=int(5 / time_step), endpoint=True)\n",
    "    ints = np.zeros_like(times)\n",
    "    for j, t in enumerate(times):\n",
    "        x = solute_data[:, 0]\n",
    "        y = solute_data[:, j + 1]\n",
    "\n",
    "        y = y - exact_solution_cm(x=x, t=t)\n",
    "        ints[j] = np.trapz(y**2, x=x)\n",
    "\n",
    "    t_errors_cm[i] = np.sqrt(np.trapz(np.array(ints), x=times))"
   ]
  },
  {
   "cell_type": "code",
   "execution_count": 7,
   "metadata": {},
   "outputs": [
    {
     "data": {
      "image/png": "[encoded data removed]",
      "text/plain": [
       "<Figure size 346.457x291.339 with 1 Axes>"
      ]
     },
     "metadata": {},
     "output_type": "display_data"
    }
   ],
   "source": [
    "fig, ax = plt.subplots(figsize=(88 * mm2inch, 74 * mm2inch))\n",
    "\n",
    "plt.plot(\n",
    "    time_steps, t_errors_cs, marker=\"o\", ms=4, label=r\"$E_\\mathrm{s}$\", color=cmap(0)\n",
    ")\n",
    "plt.plot(\n",
    "    time_steps, t_errors_cm, marker=\"o\", ms=4, label=r\"$E_\\mathrm{m}$\", color=cmap(4)\n",
    ")\n",
    "\n",
    "plt.xscale(\"log\")\n",
    "plt.yscale(\"log\")\n",
    "plt.ylabel(r\"$E$\")\n",
    "plt.xlabel(\"Временной шаг\")\n",
    "plt.legend(loc=\"upper left\")\n",
    "\n",
    "plt.savefig(\"../../../Thesis/images/MMS_c.pdf\", bbox_inches=\"tight\", pad_inches=0.02)\n",
    "plt.show()"
   ]
  }
 ],
 "metadata": {
  "kernelspec": {
   "display_name": "PhD-env",
   "language": "python",
   "name": "python3"
  },
  "language_info": {
   "codemirror_mode": {
    "name": "ipython",
    "version": 3
   },
   "file_extension": ".py",
   "mimetype": "text/x-python",
   "name": "python",
   "nbconvert_exporter": "python",
   "pygments_lexer": "ipython3",
   "version": "3.11.13"
  }
 },
 "nbformat": 4,
 "nbformat_minor": 2
}
